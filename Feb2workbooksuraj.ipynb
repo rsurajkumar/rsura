{
  "nbformat": 4,
  "nbformat_minor": 0,
  "metadata": {
    "colab": {
      "name": "Feb2workbooksuraj.ipynb",
      "provenance": [],
      "toc_visible": true,
      "authorship_tag": "ABX9TyP1V7AjBmVSkkLBsOSFnRSR",
      "include_colab_link": true
    },
    "kernelspec": {
      "name": "python3",
      "display_name": "Python 3"
    }
  },
  "cells": [
    {
      "cell_type": "markdown",
      "metadata": {
        "id": "view-in-github",
        "colab_type": "text"
      },
      "source": [
        "<a href=\"https://colab.research.google.com/github/rsurajkumar/rsura/blob/main/Feb2workbooksuraj.ipynb\" target=\"_parent\"><img src=\"https://colab.research.google.com/assets/colab-badge.svg\" alt=\"Open In Colab\"/></a>"
      ]
    },
    {
      "cell_type": "code",
      "metadata": {
        "colab": {
          "base_uri": "https://localhost:8080/"
        },
        "id": "FeFZSRktf_cP",
        "outputId": "b071219a-4d49-45ee-f21f-dcd767a70464"
      },
      "source": [
        "!git clone https://github.com/binsalim95/Data-Science-Toronto-Workshops.git"
      ],
      "execution_count": null,
      "outputs": [
        {
          "output_type": "stream",
          "text": [
            "Cloning into 'Data-Science-Toronto-Workshops'...\n",
            "remote: Enumerating objects: 26, done.\u001b[K\n",
            "remote: Counting objects: 100% (26/26), done.\u001b[K\n",
            "remote: Compressing objects: 100% (26/26), done.\u001b[K\n",
            "remote: Total 26 (delta 5), reused 0 (delta 0), pack-reused 0\u001b[K\n",
            "Unpacking objects: 100% (26/26), done.\n"
          ],
          "name": "stdout"
        }
      ]
    },
    {
      "cell_type": "code",
      "metadata": {
        "colab": {
          "base_uri": "https://localhost:8080/"
        },
        "id": "DRqUosVXgDwj",
        "outputId": "020726d6-255d-41a2-d411-51460eb5f138"
      },
      "source": [
        "cd/content/Data-Science-Toronto-Workshops"
      ],
      "execution_count": null,
      "outputs": [
        {
          "output_type": "stream",
          "text": [
            "/content/Data-Science-Toronto-Workshops\n"
          ],
          "name": "stdout"
        }
      ]
    },
    {
      "cell_type": "code",
      "metadata": {
        "colab": {
          "base_uri": "https://localhost:8080/"
        },
        "id": "D0KKH_Togery",
        "outputId": "4d0693c7-d78d-4472-9ae3-6d24be228433"
      },
      "source": [
        "!ls"
      ],
      "execution_count": null,
      "outputs": [
        {
          "output_type": "stream",
          "text": [
            "'Advanced Workshop 1.ipynb'\n",
            "'Bike-Parking-Data-Set (1).csv'\n",
            " Bike-Parking-Data-Set.csv\n",
            " Cyclists.csv\n",
            "'Data+Science+Toronto+Beginner'\\''s+Workshop+#1.ipynb'\n",
            "'Data+Science+Toronto+Beginner'\\''s+Workshop+#2.ipynb'\n",
            " DataScienceTorontoBeginnersWorkshop3.ipynb\n",
            "'Data+Science+Toronto+Beginner'\\''s+Workshop+#4.ipynb'\n",
            "'Data+Science+Toronto+Beginner'\\''s+Workshop+#5.ipynb'\n",
            " Exercise_1.ipynb\n",
            " Homicide.csv\n",
            "'Iris_Data (1).csv'\n",
            " Iris_Data.csv\n",
            " mnist_test.csv\n",
            " README.md\n",
            " Robbery_2014_to_2018.csv\n",
            " ttc-bus-delay-data-2019.csv\n",
            " Using_Conda.ipynb\n"
          ],
          "name": "stdout"
        }
      ]
    },
    {
      "cell_type": "code",
      "metadata": {
        "id": "IQnuDZxFgk7o"
      },
      "source": [
        "%load Iris_Data.csv"
      ],
      "execution_count": null,
      "outputs": []
    },
    {
      "cell_type": "code",
      "metadata": {
        "colab": {
          "base_uri": "https://localhost:8080/",
          "height": 204
        },
        "id": "lSZQa-0mgvCG",
        "outputId": "237e3797-69d9-49d8-c073-4bdade2711af"
      },
      "source": [
        "%matplotlib inline\r\n",
        "import pandas as pd\r\n",
        "import matplotlib.pyplot as plt\r\n",
        "import numpy as np\r\n",
        "\r\n",
        "x = pd.read_csv('Iris_Data.csv')\r\n",
        "x.head()"
      ],
      "execution_count": null,
      "outputs": [
        {
          "output_type": "execute_result",
          "data": {
            "text/html": [
              "<div>\n",
              "<style scoped>\n",
              "    .dataframe tbody tr th:only-of-type {\n",
              "        vertical-align: middle;\n",
              "    }\n",
              "\n",
              "    .dataframe tbody tr th {\n",
              "        vertical-align: top;\n",
              "    }\n",
              "\n",
              "    .dataframe thead th {\n",
              "        text-align: right;\n",
              "    }\n",
              "</style>\n",
              "<table border=\"1\" class=\"dataframe\">\n",
              "  <thead>\n",
              "    <tr style=\"text-align: right;\">\n",
              "      <th></th>\n",
              "      <th>sepal_length</th>\n",
              "      <th>sepal_width</th>\n",
              "      <th>petal_length</th>\n",
              "      <th>petal_width</th>\n",
              "      <th>species</th>\n",
              "    </tr>\n",
              "  </thead>\n",
              "  <tbody>\n",
              "    <tr>\n",
              "      <th>0</th>\n",
              "      <td>5.1</td>\n",
              "      <td>3.5</td>\n",
              "      <td>1.4</td>\n",
              "      <td>0.2</td>\n",
              "      <td>setosa</td>\n",
              "    </tr>\n",
              "    <tr>\n",
              "      <th>1</th>\n",
              "      <td>4.9</td>\n",
              "      <td>3.0</td>\n",
              "      <td>1.4</td>\n",
              "      <td>0.2</td>\n",
              "      <td>setosa</td>\n",
              "    </tr>\n",
              "    <tr>\n",
              "      <th>2</th>\n",
              "      <td>4.7</td>\n",
              "      <td>3.2</td>\n",
              "      <td>1.3</td>\n",
              "      <td>0.2</td>\n",
              "      <td>setosa</td>\n",
              "    </tr>\n",
              "    <tr>\n",
              "      <th>3</th>\n",
              "      <td>4.6</td>\n",
              "      <td>3.1</td>\n",
              "      <td>1.5</td>\n",
              "      <td>0.2</td>\n",
              "      <td>setosa</td>\n",
              "    </tr>\n",
              "    <tr>\n",
              "      <th>4</th>\n",
              "      <td>5.0</td>\n",
              "      <td>3.6</td>\n",
              "      <td>1.4</td>\n",
              "      <td>0.2</td>\n",
              "      <td>setosa</td>\n",
              "    </tr>\n",
              "  </tbody>\n",
              "</table>\n",
              "</div>"
            ],
            "text/plain": [
              "   sepal_length  sepal_width  petal_length  petal_width species\n",
              "0           5.1          3.5           1.4          0.2  setosa\n",
              "1           4.9          3.0           1.4          0.2  setosa\n",
              "2           4.7          3.2           1.3          0.2  setosa\n",
              "3           4.6          3.1           1.5          0.2  setosa\n",
              "4           5.0          3.6           1.4          0.2  setosa"
            ]
          },
          "metadata": {
            "tags": []
          },
          "execution_count": 6
        }
      ]
    },
    {
      "cell_type": "code",
      "metadata": {
        "colab": {
          "base_uri": "https://localhost:8080/",
          "height": 295
        },
        "id": "_FMz2g8kjnD3",
        "outputId": "4501d1a3-a422-4ab0-c908-7ad9937ea338"
      },
      "source": [
        "sepal_length = x['sepal_length']\r\n",
        "setosa = sepal_length[0:50].to_numpy()\r\n",
        "versicolour = sepal_length[50:100].to_numpy()\r\n",
        "virginica = sepal_length[100:150].to_numpy()\r\n",
        "\r\n",
        "data = [setosa, versicolour, virginica]\r\n",
        "plt.boxplot(data)\r\n",
        "plt.ylabel('Sepal Length')\r\n",
        "plt.xlabel('Species')\r\n",
        "plt.xticks([1, 2, 3], ['Setosa', 'Versicolour', 'Virginica'])\r\n",
        "plt.title(\"Sepal Length by Species\")\r\n",
        "plt.show()"
      ],
      "execution_count": null,
      "outputs": [
        {
          "output_type": "display_data",
          "data": {
            "image/png": "[encoded data removed]",
            "text/plain": [
              "<Figure size 432x288 with 1 Axes>"
            ]
          },
          "metadata": {
            "tags": [],
            "needs_background": "light"
          }
        }
      ]
    }
  ]
}